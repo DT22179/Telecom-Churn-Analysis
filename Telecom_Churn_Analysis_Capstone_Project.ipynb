{
  "nbformat": 4,
  "nbformat_minor": 0,
  "metadata": {
    "kernelspec": {
      "display_name": "Python 3",
      "language": "python",
      "name": "python3"
    },
    "language_info": {
      "codemirror_mode": {
        "name": "ipython",
        "version": 3
      },
      "file_extension": ".py",
      "mimetype": "text/x-python",
      "name": "python",
      "nbconvert_exporter": "python",
      "pygments_lexer": "ipython3",
      "version": "3.6.6"
    },
    "colab": {
      "name": "Telecom Churn Analysis - Capstone Project.ipynb",
      "provenance": [],
      "collapsed_sections": [],
      "include_colab_link": true
    }
  },
  "cells": [
    {
      "cell_type": "markdown",
      "metadata": {
        "id": "view-in-github",
        "colab_type": "text"
      },
      "source": [
        "<a href=\"https://colab.research.google.com/github/DT22179/Telecom-Churn-Analysis/blob/main/Telecom_Churn_Analysis_Capstone_Project.ipynb\" target=\"_parent\"><img src=\"https://colab.research.google.com/assets/colab-badge.svg\" alt=\"Open In Colab\"/></a>"
      ]
    },
    {
      "cell_type": "markdown",
      "metadata": {
        "id": "Y06xIdG26kRF"
      },
      "source": [
        "## <b> Orange S.A., formerly France Télécom S.A., is a French multinational telecommunications corporation. The Orange Telecom's Churn Dataset, consists of cleaned customer activity data (features), along with a churn label specifying whether a customer canceled the subscription.\n",
        "\n",
        "## <b> Explore and analyze the data to discover key factors responsible for customer churn and come up with ways/recommendations to ensure customer retention. </b>"
      ]
    },
    {
      "cell_type": "markdown",
      "metadata": {
        "id": "DVsRjSvr64a8"
      },
      "source": [
        "# Business Problem\n",
        "## To Explore and analyze the data provided by Orange S.A., to discover key factors responsible for customer churn and suggest ways to ensure customer retention.\n",
        "\n",
        "## Business Metric - Decrease % of customer churn rate (or increase the % of customer retention).\n",
        "\n",
        "\n",
        "\n"
      ]
    },
    {
      "cell_type": "markdown",
      "metadata": {
        "id": "nNDHGIfRezf_"
      },
      "source": [
        "### Importing Required Libraries\n",
        "\n"
      ]
    },
    {
      "cell_type": "code",
      "metadata": {
        "id": "X2k52yxle6bm"
      },
      "source": [
        "import pandas as pd\n",
        "import numpy as np\n",
        "import matplotlib.pyplot as plt\n",
        "import seaborn as sns"
      ],
      "execution_count": 32,
      "outputs": []
    },
    {
      "cell_type": "markdown",
      "metadata": {
        "id": "ifyQqxnjeWBV"
      },
      "source": [
        "### Importing Dataset from Google Drive"
      ]
    },
    {
      "cell_type": "code",
      "metadata": {
        "id": "dByMsuzT8Tnw",
        "colab": {
          "base_uri": "https://localhost:8080/"
        },
        "outputId": "e81b36d4-d495-44a6-9029-867151d797fe"
      },
      "source": [
        "from google.colab import drive\n",
        "drive.mount('/content/drive')"
      ],
      "execution_count": 33,
      "outputs": [
        {
          "output_type": "stream",
          "name": "stdout",
          "text": [
            "Drive already mounted at /content/drive; to attempt to forcibly remount, call drive.mount(\"/content/drive\", force_remount=True).\n"
          ]
        }
      ]
    },
    {
      "cell_type": "markdown",
      "metadata": {
        "id": "7apXIG7feyAG"
      },
      "source": [
        "### Reading the dataset using pandas"
      ]
    },
    {
      "cell_type": "code",
      "metadata": {
        "id": "29QfSA6MehaC"
      },
      "source": [
        "tele_df = pd.read_csv('/content/drive/MyDrive/AlmaBetter/Capstone Project/EDA/Telecom Churn.csv')"
      ],
      "execution_count": 34,
      "outputs": []
    },
    {
      "cell_type": "code",
      "metadata": {
        "colab": {
          "base_uri": "https://localhost:8080/",
          "height": 450
        },
        "id": "EOaVg0XIfwK0",
        "outputId": "8f0c9e05-dd5b-4793-f73f-2f92c52c0368"
      },
      "source": [
        "## Let's explore the data\n",
        "tele_df"
      ],
      "execution_count": null,
      "outputs": [
        {
          "output_type": "execute_result",
          "data": {
            "text/html": [
              "<div>\n",
              "<style scoped>\n",
              "    .dataframe tbody tr th:only-of-type {\n",
              "        vertical-align: middle;\n",
              "    }\n",
              "\n",
              "    .dataframe tbody tr th {\n",
              "        vertical-align: top;\n",
              "    }\n",
              "\n",
              "    .dataframe thead th {\n",
              "        text-align: right;\n",
              "    }\n",
              "</style>\n",
              "<table border=\"1\" class=\"dataframe\">\n",
              "  <thead>\n",
              "    <tr style=\"text-align: right;\">\n",
              "      <th></th>\n",
              "      <th>State</th>\n",
              "      <th>Account length</th>\n",
              "      <th>Area code</th>\n",
              "      <th>International plan</th>\n",
              "      <th>Voice mail plan</th>\n",
              "      <th>Number vmail messages</th>\n",
              "      <th>Total day minutes</th>\n",
              "      <th>Total day calls</th>\n",
              "      <th>Total day charge</th>\n",
              "      <th>Total eve minutes</th>\n",
              "      <th>Total eve calls</th>\n",
              "      <th>Total eve charge</th>\n",
              "      <th>Total night minutes</th>\n",
              "      <th>Total night calls</th>\n",
              "      <th>Total night charge</th>\n",
              "      <th>Total intl minutes</th>\n",
              "      <th>Total intl calls</th>\n",
              "      <th>Total intl charge</th>\n",
              "      <th>Customer service calls</th>\n",
              "      <th>Churn</th>\n",
              "    </tr>\n",
              "  </thead>\n",
              "  <tbody>\n",
              "    <tr>\n",
              "      <th>0</th>\n",
              "      <td>KS</td>\n",
              "      <td>128</td>\n",
              "      <td>415</td>\n",
              "      <td>No</td>\n",
              "      <td>Yes</td>\n",
              "      <td>25</td>\n",
              "      <td>265.1</td>\n",
              "      <td>110</td>\n",
              "      <td>45.07</td>\n",
              "      <td>197.4</td>\n",
              "      <td>99</td>\n",
              "      <td>16.78</td>\n",
              "      <td>244.7</td>\n",
              "      <td>91</td>\n",
              "      <td>11.01</td>\n",
              "      <td>10.0</td>\n",
              "      <td>3</td>\n",
              "      <td>2.70</td>\n",
              "      <td>1</td>\n",
              "      <td>False</td>\n",
              "    </tr>\n",
              "    <tr>\n",
              "      <th>1</th>\n",
              "      <td>OH</td>\n",
              "      <td>107</td>\n",
              "      <td>415</td>\n",
              "      <td>No</td>\n",
              "      <td>Yes</td>\n",
              "      <td>26</td>\n",
              "      <td>161.6</td>\n",
              "      <td>123</td>\n",
              "      <td>27.47</td>\n",
              "      <td>195.5</td>\n",
              "      <td>103</td>\n",
              "      <td>16.62</td>\n",
              "      <td>254.4</td>\n",
              "      <td>103</td>\n",
              "      <td>11.45</td>\n",
              "      <td>13.7</td>\n",
              "      <td>3</td>\n",
              "      <td>3.70</td>\n",
              "      <td>1</td>\n",
              "      <td>False</td>\n",
              "    </tr>\n",
              "    <tr>\n",
              "      <th>2</th>\n",
              "      <td>NJ</td>\n",
              "      <td>137</td>\n",
              "      <td>415</td>\n",
              "      <td>No</td>\n",
              "      <td>No</td>\n",
              "      <td>0</td>\n",
              "      <td>243.4</td>\n",
              "      <td>114</td>\n",
              "      <td>41.38</td>\n",
              "      <td>121.2</td>\n",
              "      <td>110</td>\n",
              "      <td>10.30</td>\n",
              "      <td>162.6</td>\n",
              "      <td>104</td>\n",
              "      <td>7.32</td>\n",
              "      <td>12.2</td>\n",
              "      <td>5</td>\n",
              "      <td>3.29</td>\n",
              "      <td>0</td>\n",
              "      <td>False</td>\n",
              "    </tr>\n",
              "    <tr>\n",
              "      <th>3</th>\n",
              "      <td>OH</td>\n",
              "      <td>84</td>\n",
              "      <td>408</td>\n",
              "      <td>Yes</td>\n",
              "      <td>No</td>\n",
              "      <td>0</td>\n",
              "      <td>299.4</td>\n",
              "      <td>71</td>\n",
              "      <td>50.90</td>\n",
              "      <td>61.9</td>\n",
              "      <td>88</td>\n",
              "      <td>5.26</td>\n",
              "      <td>196.9</td>\n",
              "      <td>89</td>\n",
              "      <td>8.86</td>\n",
              "      <td>6.6</td>\n",
              "      <td>7</td>\n",
              "      <td>1.78</td>\n",
              "      <td>2</td>\n",
              "      <td>False</td>\n",
              "    </tr>\n",
              "    <tr>\n",
              "      <th>4</th>\n",
              "      <td>OK</td>\n",
              "      <td>75</td>\n",
              "      <td>415</td>\n",
              "      <td>Yes</td>\n",
              "      <td>No</td>\n",
              "      <td>0</td>\n",
              "      <td>166.7</td>\n",
              "      <td>113</td>\n",
              "      <td>28.34</td>\n",
              "      <td>148.3</td>\n",
              "      <td>122</td>\n",
              "      <td>12.61</td>\n",
              "      <td>186.9</td>\n",
              "      <td>121</td>\n",
              "      <td>8.41</td>\n",
              "      <td>10.1</td>\n",
              "      <td>3</td>\n",
              "      <td>2.73</td>\n",
              "      <td>3</td>\n",
              "      <td>False</td>\n",
              "    </tr>\n",
              "    <tr>\n",
              "      <th>...</th>\n",
              "      <td>...</td>\n",
              "      <td>...</td>\n",
              "      <td>...</td>\n",
              "      <td>...</td>\n",
              "      <td>...</td>\n",
              "      <td>...</td>\n",
              "      <td>...</td>\n",
              "      <td>...</td>\n",
              "      <td>...</td>\n",
              "      <td>...</td>\n",
              "      <td>...</td>\n",
              "      <td>...</td>\n",
              "      <td>...</td>\n",
              "      <td>...</td>\n",
              "      <td>...</td>\n",
              "      <td>...</td>\n",
              "      <td>...</td>\n",
              "      <td>...</td>\n",
              "      <td>...</td>\n",
              "      <td>...</td>\n",
              "    </tr>\n",
              "    <tr>\n",
              "      <th>3328</th>\n",
              "      <td>AZ</td>\n",
              "      <td>192</td>\n",
              "      <td>415</td>\n",
              "      <td>No</td>\n",
              "      <td>Yes</td>\n",
              "      <td>36</td>\n",
              "      <td>156.2</td>\n",
              "      <td>77</td>\n",
              "      <td>26.55</td>\n",
              "      <td>215.5</td>\n",
              "      <td>126</td>\n",
              "      <td>18.32</td>\n",
              "      <td>279.1</td>\n",
              "      <td>83</td>\n",
              "      <td>12.56</td>\n",
              "      <td>9.9</td>\n",
              "      <td>6</td>\n",
              "      <td>2.67</td>\n",
              "      <td>2</td>\n",
              "      <td>False</td>\n",
              "    </tr>\n",
              "    <tr>\n",
              "      <th>3329</th>\n",
              "      <td>WV</td>\n",
              "      <td>68</td>\n",
              "      <td>415</td>\n",
              "      <td>No</td>\n",
              "      <td>No</td>\n",
              "      <td>0</td>\n",
              "      <td>231.1</td>\n",
              "      <td>57</td>\n",
              "      <td>39.29</td>\n",
              "      <td>153.4</td>\n",
              "      <td>55</td>\n",
              "      <td>13.04</td>\n",
              "      <td>191.3</td>\n",
              "      <td>123</td>\n",
              "      <td>8.61</td>\n",
              "      <td>9.6</td>\n",
              "      <td>4</td>\n",
              "      <td>2.59</td>\n",
              "      <td>3</td>\n",
              "      <td>False</td>\n",
              "    </tr>\n",
              "    <tr>\n",
              "      <th>3330</th>\n",
              "      <td>RI</td>\n",
              "      <td>28</td>\n",
              "      <td>510</td>\n",
              "      <td>No</td>\n",
              "      <td>No</td>\n",
              "      <td>0</td>\n",
              "      <td>180.8</td>\n",
              "      <td>109</td>\n",
              "      <td>30.74</td>\n",
              "      <td>288.8</td>\n",
              "      <td>58</td>\n",
              "      <td>24.55</td>\n",
              "      <td>191.9</td>\n",
              "      <td>91</td>\n",
              "      <td>8.64</td>\n",
              "      <td>14.1</td>\n",
              "      <td>6</td>\n",
              "      <td>3.81</td>\n",
              "      <td>2</td>\n",
              "      <td>False</td>\n",
              "    </tr>\n",
              "    <tr>\n",
              "      <th>3331</th>\n",
              "      <td>CT</td>\n",
              "      <td>184</td>\n",
              "      <td>510</td>\n",
              "      <td>Yes</td>\n",
              "      <td>No</td>\n",
              "      <td>0</td>\n",
              "      <td>213.8</td>\n",
              "      <td>105</td>\n",
              "      <td>36.35</td>\n",
              "      <td>159.6</td>\n",
              "      <td>84</td>\n",
              "      <td>13.57</td>\n",
              "      <td>139.2</td>\n",
              "      <td>137</td>\n",
              "      <td>6.26</td>\n",
              "      <td>5.0</td>\n",
              "      <td>10</td>\n",
              "      <td>1.35</td>\n",
              "      <td>2</td>\n",
              "      <td>False</td>\n",
              "    </tr>\n",
              "    <tr>\n",
              "      <th>3332</th>\n",
              "      <td>TN</td>\n",
              "      <td>74</td>\n",
              "      <td>415</td>\n",
              "      <td>No</td>\n",
              "      <td>Yes</td>\n",
              "      <td>25</td>\n",
              "      <td>234.4</td>\n",
              "      <td>113</td>\n",
              "      <td>39.85</td>\n",
              "      <td>265.9</td>\n",
              "      <td>82</td>\n",
              "      <td>22.60</td>\n",
              "      <td>241.4</td>\n",
              "      <td>77</td>\n",
              "      <td>10.86</td>\n",
              "      <td>13.7</td>\n",
              "      <td>4</td>\n",
              "      <td>3.70</td>\n",
              "      <td>0</td>\n",
              "      <td>False</td>\n",
              "    </tr>\n",
              "  </tbody>\n",
              "</table>\n",
              "<p>3333 rows × 20 columns</p>\n",
              "</div>"
            ],
            "text/plain": [
              "     State  Account length  ...  Customer service calls  Churn\n",
              "0       KS             128  ...                       1  False\n",
              "1       OH             107  ...                       1  False\n",
              "2       NJ             137  ...                       0  False\n",
              "3       OH              84  ...                       2  False\n",
              "4       OK              75  ...                       3  False\n",
              "...    ...             ...  ...                     ...    ...\n",
              "3328    AZ             192  ...                       2  False\n",
              "3329    WV              68  ...                       3  False\n",
              "3330    RI              28  ...                       2  False\n",
              "3331    CT             184  ...                       2  False\n",
              "3332    TN              74  ...                       0  False\n",
              "\n",
              "[3333 rows x 20 columns]"
            ]
          },
          "metadata": {},
          "execution_count": 6
        }
      ]
    },
    {
      "cell_type": "markdown",
      "metadata": {
        "id": "smM9cqk5gIIW"
      },
      "source": [
        "#### So there are 3,333 rows and 20 columns(can say features)"
      ]
    },
    {
      "cell_type": "code",
      "metadata": {
        "colab": {
          "base_uri": "https://localhost:8080/"
        },
        "id": "Et1ikc3Uf5vx",
        "outputId": "148b5ca2-22f0-481d-f61d-e76977013a25"
      },
      "source": [
        "## Let's check column names\n",
        "tele_df.columns"
      ],
      "execution_count": null,
      "outputs": [
        {
          "output_type": "execute_result",
          "data": {
            "text/plain": [
              "Index(['State', 'Account length', 'Area code', 'International plan',\n",
              "       'Voice mail plan', 'Number vmail messages', 'Total day minutes',\n",
              "       'Total day calls', 'Total day charge', 'Total eve minutes',\n",
              "       'Total eve calls', 'Total eve charge', 'Total night minutes',\n",
              "       'Total night calls', 'Total night charge', 'Total intl minutes',\n",
              "       'Total intl calls', 'Total intl charge', 'Customer service calls',\n",
              "       'Churn'],\n",
              "      dtype='object')"
            ]
          },
          "metadata": {},
          "execution_count": 7
        }
      ]
    },
    {
      "cell_type": "markdown",
      "metadata": {
        "id": "tvTdbq9KhOwZ"
      },
      "source": [
        "From the output of **tele_df.columns** we can observe that there are 19 independent feature and one dependent feature(also called target) which is **Churn**. The value of churn can be either **False** or **True** and it is dependent on rest of the features. So we've to examine how to decrease the churn rate of our customer's and increase the retention and for that we will need to explore all the possible relationship between features itself and also between features and target variable to get the solid insights about the data and business problem."
      ]
    },
    {
      "cell_type": "markdown",
      "metadata": {
        "id": "EgMQ1q50oZ-V"
      },
      "source": [
        "# Different Types Of Categories For Our Features\n",
        "### Target Feature\n",
        "* Churn (Bool type) Further we can convert it to int type with value 0 and 1 for False and True respectively. \n",
        "Note: Churn is a type of Categorical feature\n",
        "\n",
        "### Numerical Feature\n",
        "\n",
        "1. Account Length\n",
        "2. Number Vmail Messages\n",
        "3. Total Day Minutes\n",
        "4. Total Day Calls\n",
        "5. Total Day Charge\n",
        "6. Total Eve Minutes\n",
        "7. Total Eve Calls\n",
        "8. Total Eve Charge\n",
        "9. Total Night Minutes\n",
        "10. Total Night Calls\n",
        "11. Total Night Charge\n",
        "12. Total Intl Minutes\n",
        "12. Total Intl Calls\n",
        "13. Total Intl Charge\n",
        "14. Customer Services Call\n",
        "\n",
        "### Categorical Feature\n",
        "\n",
        "1. State\n",
        "2. Area Code\n",
        "3. International Plan\n",
        "4. Voice Mail Plan\n",
        "\n",
        "\n",
        "\n",
        "\n"
      ]
    },
    {
      "cell_type": "markdown",
      "metadata": {
        "id": "MexicLsAtU8i"
      },
      "source": [
        "## Getting information and summary about a data."
      ]
    },
    {
      "cell_type": "code",
      "metadata": {
        "colab": {
          "base_uri": "https://localhost:8080/"
        },
        "id": "J9pOAsrXgBGy",
        "outputId": "2463cd8f-8c86-4dab-fb6e-8c77fea63571"
      },
      "source": [
        "## Getting more information about the dataset\n",
        "tele_df.info()"
      ],
      "execution_count": null,
      "outputs": [
        {
          "output_type": "stream",
          "name": "stdout",
          "text": [
            "<class 'pandas.core.frame.DataFrame'>\n",
            "RangeIndex: 3333 entries, 0 to 3332\n",
            "Data columns (total 20 columns):\n",
            " #   Column                  Non-Null Count  Dtype  \n",
            "---  ------                  --------------  -----  \n",
            " 0   State                   3333 non-null   object \n",
            " 1   Account length          3333 non-null   int64  \n",
            " 2   Area code               3333 non-null   int64  \n",
            " 3   International plan      3333 non-null   object \n",
            " 4   Voice mail plan         3333 non-null   object \n",
            " 5   Number vmail messages   3333 non-null   int64  \n",
            " 6   Total day minutes       3333 non-null   float64\n",
            " 7   Total day calls         3333 non-null   int64  \n",
            " 8   Total day charge        3333 non-null   float64\n",
            " 9   Total eve minutes       3333 non-null   float64\n",
            " 10  Total eve calls         3333 non-null   int64  \n",
            " 11  Total eve charge        3333 non-null   float64\n",
            " 12  Total night minutes     3333 non-null   float64\n",
            " 13  Total night calls       3333 non-null   int64  \n",
            " 14  Total night charge      3333 non-null   float64\n",
            " 15  Total intl minutes      3333 non-null   float64\n",
            " 16  Total intl calls        3333 non-null   int64  \n",
            " 17  Total intl charge       3333 non-null   float64\n",
            " 18  Customer service calls  3333 non-null   int64  \n",
            " 19  Churn                   3333 non-null   bool   \n",
            "dtypes: bool(1), float64(8), int64(8), object(3)\n",
            "memory usage: 498.1+ KB\n"
          ]
        }
      ]
    },
    {
      "cell_type": "markdown",
      "metadata": {
        "id": "gN1WVYVTjPtt"
      },
      "source": [
        "We can see that there is no any ***NULL*** value present. "
      ]
    },
    {
      "cell_type": "code",
      "metadata": {
        "colab": {
          "base_uri": "https://localhost:8080/",
          "height": 349
        },
        "id": "x2PcBaNQjMP5",
        "outputId": "c90a0a1a-755a-488f-e1fe-c23c36c47452"
      },
      "source": [
        "## Describing the dataset to get the statistical summary about the data\n",
        "tele_df.describe()"
      ],
      "execution_count": null,
      "outputs": [
        {
          "output_type": "execute_result",
          "data": {
            "text/html": [
              "<div>\n",
              "<style scoped>\n",
              "    .dataframe tbody tr th:only-of-type {\n",
              "        vertical-align: middle;\n",
              "    }\n",
              "\n",
              "    .dataframe tbody tr th {\n",
              "        vertical-align: top;\n",
              "    }\n",
              "\n",
              "    .dataframe thead th {\n",
              "        text-align: right;\n",
              "    }\n",
              "</style>\n",
              "<table border=\"1\" class=\"dataframe\">\n",
              "  <thead>\n",
              "    <tr style=\"text-align: right;\">\n",
              "      <th></th>\n",
              "      <th>Account length</th>\n",
              "      <th>Area code</th>\n",
              "      <th>Number vmail messages</th>\n",
              "      <th>Total day minutes</th>\n",
              "      <th>Total day calls</th>\n",
              "      <th>Total day charge</th>\n",
              "      <th>Total eve minutes</th>\n",
              "      <th>Total eve calls</th>\n",
              "      <th>Total eve charge</th>\n",
              "      <th>Total night minutes</th>\n",
              "      <th>Total night calls</th>\n",
              "      <th>Total night charge</th>\n",
              "      <th>Total intl minutes</th>\n",
              "      <th>Total intl calls</th>\n",
              "      <th>Total intl charge</th>\n",
              "      <th>Customer service calls</th>\n",
              "    </tr>\n",
              "  </thead>\n",
              "  <tbody>\n",
              "    <tr>\n",
              "      <th>count</th>\n",
              "      <td>3333.000000</td>\n",
              "      <td>3333.000000</td>\n",
              "      <td>3333.000000</td>\n",
              "      <td>3333.000000</td>\n",
              "      <td>3333.000000</td>\n",
              "      <td>3333.000000</td>\n",
              "      <td>3333.000000</td>\n",
              "      <td>3333.000000</td>\n",
              "      <td>3333.000000</td>\n",
              "      <td>3333.000000</td>\n",
              "      <td>3333.000000</td>\n",
              "      <td>3333.000000</td>\n",
              "      <td>3333.000000</td>\n",
              "      <td>3333.000000</td>\n",
              "      <td>3333.000000</td>\n",
              "      <td>3333.000000</td>\n",
              "    </tr>\n",
              "    <tr>\n",
              "      <th>mean</th>\n",
              "      <td>101.064806</td>\n",
              "      <td>437.182418</td>\n",
              "      <td>8.099010</td>\n",
              "      <td>179.775098</td>\n",
              "      <td>100.435644</td>\n",
              "      <td>30.562307</td>\n",
              "      <td>200.980348</td>\n",
              "      <td>100.114311</td>\n",
              "      <td>17.083540</td>\n",
              "      <td>200.872037</td>\n",
              "      <td>100.107711</td>\n",
              "      <td>9.039325</td>\n",
              "      <td>10.237294</td>\n",
              "      <td>4.479448</td>\n",
              "      <td>2.764581</td>\n",
              "      <td>1.562856</td>\n",
              "    </tr>\n",
              "    <tr>\n",
              "      <th>std</th>\n",
              "      <td>39.822106</td>\n",
              "      <td>42.371290</td>\n",
              "      <td>13.688365</td>\n",
              "      <td>54.467389</td>\n",
              "      <td>20.069084</td>\n",
              "      <td>9.259435</td>\n",
              "      <td>50.713844</td>\n",
              "      <td>19.922625</td>\n",
              "      <td>4.310668</td>\n",
              "      <td>50.573847</td>\n",
              "      <td>19.568609</td>\n",
              "      <td>2.275873</td>\n",
              "      <td>2.791840</td>\n",
              "      <td>2.461214</td>\n",
              "      <td>0.753773</td>\n",
              "      <td>1.315491</td>\n",
              "    </tr>\n",
              "    <tr>\n",
              "      <th>min</th>\n",
              "      <td>1.000000</td>\n",
              "      <td>408.000000</td>\n",
              "      <td>0.000000</td>\n",
              "      <td>0.000000</td>\n",
              "      <td>0.000000</td>\n",
              "      <td>0.000000</td>\n",
              "      <td>0.000000</td>\n",
              "      <td>0.000000</td>\n",
              "      <td>0.000000</td>\n",
              "      <td>23.200000</td>\n",
              "      <td>33.000000</td>\n",
              "      <td>1.040000</td>\n",
              "      <td>0.000000</td>\n",
              "      <td>0.000000</td>\n",
              "      <td>0.000000</td>\n",
              "      <td>0.000000</td>\n",
              "    </tr>\n",
              "    <tr>\n",
              "      <th>25%</th>\n",
              "      <td>74.000000</td>\n",
              "      <td>408.000000</td>\n",
              "      <td>0.000000</td>\n",
              "      <td>143.700000</td>\n",
              "      <td>87.000000</td>\n",
              "      <td>24.430000</td>\n",
              "      <td>166.600000</td>\n",
              "      <td>87.000000</td>\n",
              "      <td>14.160000</td>\n",
              "      <td>167.000000</td>\n",
              "      <td>87.000000</td>\n",
              "      <td>7.520000</td>\n",
              "      <td>8.500000</td>\n",
              "      <td>3.000000</td>\n",
              "      <td>2.300000</td>\n",
              "      <td>1.000000</td>\n",
              "    </tr>\n",
              "    <tr>\n",
              "      <th>50%</th>\n",
              "      <td>101.000000</td>\n",
              "      <td>415.000000</td>\n",
              "      <td>0.000000</td>\n",
              "      <td>179.400000</td>\n",
              "      <td>101.000000</td>\n",
              "      <td>30.500000</td>\n",
              "      <td>201.400000</td>\n",
              "      <td>100.000000</td>\n",
              "      <td>17.120000</td>\n",
              "      <td>201.200000</td>\n",
              "      <td>100.000000</td>\n",
              "      <td>9.050000</td>\n",
              "      <td>10.300000</td>\n",
              "      <td>4.000000</td>\n",
              "      <td>2.780000</td>\n",
              "      <td>1.000000</td>\n",
              "    </tr>\n",
              "    <tr>\n",
              "      <th>75%</th>\n",
              "      <td>127.000000</td>\n",
              "      <td>510.000000</td>\n",
              "      <td>20.000000</td>\n",
              "      <td>216.400000</td>\n",
              "      <td>114.000000</td>\n",
              "      <td>36.790000</td>\n",
              "      <td>235.300000</td>\n",
              "      <td>114.000000</td>\n",
              "      <td>20.000000</td>\n",
              "      <td>235.300000</td>\n",
              "      <td>113.000000</td>\n",
              "      <td>10.590000</td>\n",
              "      <td>12.100000</td>\n",
              "      <td>6.000000</td>\n",
              "      <td>3.270000</td>\n",
              "      <td>2.000000</td>\n",
              "    </tr>\n",
              "    <tr>\n",
              "      <th>max</th>\n",
              "      <td>243.000000</td>\n",
              "      <td>510.000000</td>\n",
              "      <td>51.000000</td>\n",
              "      <td>350.800000</td>\n",
              "      <td>165.000000</td>\n",
              "      <td>59.640000</td>\n",
              "      <td>363.700000</td>\n",
              "      <td>170.000000</td>\n",
              "      <td>30.910000</td>\n",
              "      <td>395.000000</td>\n",
              "      <td>175.000000</td>\n",
              "      <td>17.770000</td>\n",
              "      <td>20.000000</td>\n",
              "      <td>20.000000</td>\n",
              "      <td>5.400000</td>\n",
              "      <td>9.000000</td>\n",
              "    </tr>\n",
              "  </tbody>\n",
              "</table>\n",
              "</div>"
            ],
            "text/plain": [
              "       Account length    Area code  ...  Total intl charge  Customer service calls\n",
              "count     3333.000000  3333.000000  ...        3333.000000             3333.000000\n",
              "mean       101.064806   437.182418  ...           2.764581                1.562856\n",
              "std         39.822106    42.371290  ...           0.753773                1.315491\n",
              "min          1.000000   408.000000  ...           0.000000                0.000000\n",
              "25%         74.000000   408.000000  ...           2.300000                1.000000\n",
              "50%        101.000000   415.000000  ...           2.780000                1.000000\n",
              "75%        127.000000   510.000000  ...           3.270000                2.000000\n",
              "max        243.000000   510.000000  ...           5.400000                9.000000\n",
              "\n",
              "[8 rows x 16 columns]"
            ]
          },
          "metadata": {},
          "execution_count": 9
        }
      ]
    },
    {
      "cell_type": "code",
      "metadata": {
        "colab": {
          "base_uri": "https://localhost:8080/",
          "height": 542
        },
        "id": "Vas7ij_guCBa",
        "outputId": "d605b9b6-0e2e-4f08-9c74-7761e0a5cd47"
      },
      "source": [
        "tele_df.describe().transpose()"
      ],
      "execution_count": null,
      "outputs": [
        {
          "output_type": "execute_result",
          "data": {
            "text/html": [
              "<div>\n",
              "<style scoped>\n",
              "    .dataframe tbody tr th:only-of-type {\n",
              "        vertical-align: middle;\n",
              "    }\n",
              "\n",
              "    .dataframe tbody tr th {\n",
              "        vertical-align: top;\n",
              "    }\n",
              "\n",
              "    .dataframe thead th {\n",
              "        text-align: right;\n",
              "    }\n",
              "</style>\n",
              "<table border=\"1\" class=\"dataframe\">\n",
              "  <thead>\n",
              "    <tr style=\"text-align: right;\">\n",
              "      <th></th>\n",
              "      <th>count</th>\n",
              "      <th>mean</th>\n",
              "      <th>std</th>\n",
              "      <th>min</th>\n",
              "      <th>25%</th>\n",
              "      <th>50%</th>\n",
              "      <th>75%</th>\n",
              "      <th>max</th>\n",
              "    </tr>\n",
              "  </thead>\n",
              "  <tbody>\n",
              "    <tr>\n",
              "      <th>Account length</th>\n",
              "      <td>3333.0</td>\n",
              "      <td>101.064806</td>\n",
              "      <td>39.822106</td>\n",
              "      <td>1.00</td>\n",
              "      <td>74.00</td>\n",
              "      <td>101.00</td>\n",
              "      <td>127.00</td>\n",
              "      <td>243.00</td>\n",
              "    </tr>\n",
              "    <tr>\n",
              "      <th>Area code</th>\n",
              "      <td>3333.0</td>\n",
              "      <td>437.182418</td>\n",
              "      <td>42.371290</td>\n",
              "      <td>408.00</td>\n",
              "      <td>408.00</td>\n",
              "      <td>415.00</td>\n",
              "      <td>510.00</td>\n",
              "      <td>510.00</td>\n",
              "    </tr>\n",
              "    <tr>\n",
              "      <th>Number vmail messages</th>\n",
              "      <td>3333.0</td>\n",
              "      <td>8.099010</td>\n",
              "      <td>13.688365</td>\n",
              "      <td>0.00</td>\n",
              "      <td>0.00</td>\n",
              "      <td>0.00</td>\n",
              "      <td>20.00</td>\n",
              "      <td>51.00</td>\n",
              "    </tr>\n",
              "    <tr>\n",
              "      <th>Total day minutes</th>\n",
              "      <td>3333.0</td>\n",
              "      <td>179.775098</td>\n",
              "      <td>54.467389</td>\n",
              "      <td>0.00</td>\n",
              "      <td>143.70</td>\n",
              "      <td>179.40</td>\n",
              "      <td>216.40</td>\n",
              "      <td>350.80</td>\n",
              "    </tr>\n",
              "    <tr>\n",
              "      <th>Total day calls</th>\n",
              "      <td>3333.0</td>\n",
              "      <td>100.435644</td>\n",
              "      <td>20.069084</td>\n",
              "      <td>0.00</td>\n",
              "      <td>87.00</td>\n",
              "      <td>101.00</td>\n",
              "      <td>114.00</td>\n",
              "      <td>165.00</td>\n",
              "    </tr>\n",
              "    <tr>\n",
              "      <th>Total day charge</th>\n",
              "      <td>3333.0</td>\n",
              "      <td>30.562307</td>\n",
              "      <td>9.259435</td>\n",
              "      <td>0.00</td>\n",
              "      <td>24.43</td>\n",
              "      <td>30.50</td>\n",
              "      <td>36.79</td>\n",
              "      <td>59.64</td>\n",
              "    </tr>\n",
              "    <tr>\n",
              "      <th>Total eve minutes</th>\n",
              "      <td>3333.0</td>\n",
              "      <td>200.980348</td>\n",
              "      <td>50.713844</td>\n",
              "      <td>0.00</td>\n",
              "      <td>166.60</td>\n",
              "      <td>201.40</td>\n",
              "      <td>235.30</td>\n",
              "      <td>363.70</td>\n",
              "    </tr>\n",
              "    <tr>\n",
              "      <th>Total eve calls</th>\n",
              "      <td>3333.0</td>\n",
              "      <td>100.114311</td>\n",
              "      <td>19.922625</td>\n",
              "      <td>0.00</td>\n",
              "      <td>87.00</td>\n",
              "      <td>100.00</td>\n",
              "      <td>114.00</td>\n",
              "      <td>170.00</td>\n",
              "    </tr>\n",
              "    <tr>\n",
              "      <th>Total eve charge</th>\n",
              "      <td>3333.0</td>\n",
              "      <td>17.083540</td>\n",
              "      <td>4.310668</td>\n",
              "      <td>0.00</td>\n",
              "      <td>14.16</td>\n",
              "      <td>17.12</td>\n",
              "      <td>20.00</td>\n",
              "      <td>30.91</td>\n",
              "    </tr>\n",
              "    <tr>\n",
              "      <th>Total night minutes</th>\n",
              "      <td>3333.0</td>\n",
              "      <td>200.872037</td>\n",
              "      <td>50.573847</td>\n",
              "      <td>23.20</td>\n",
              "      <td>167.00</td>\n",
              "      <td>201.20</td>\n",
              "      <td>235.30</td>\n",
              "      <td>395.00</td>\n",
              "    </tr>\n",
              "    <tr>\n",
              "      <th>Total night calls</th>\n",
              "      <td>3333.0</td>\n",
              "      <td>100.107711</td>\n",
              "      <td>19.568609</td>\n",
              "      <td>33.00</td>\n",
              "      <td>87.00</td>\n",
              "      <td>100.00</td>\n",
              "      <td>113.00</td>\n",
              "      <td>175.00</td>\n",
              "    </tr>\n",
              "    <tr>\n",
              "      <th>Total night charge</th>\n",
              "      <td>3333.0</td>\n",
              "      <td>9.039325</td>\n",
              "      <td>2.275873</td>\n",
              "      <td>1.04</td>\n",
              "      <td>7.52</td>\n",
              "      <td>9.05</td>\n",
              "      <td>10.59</td>\n",
              "      <td>17.77</td>\n",
              "    </tr>\n",
              "    <tr>\n",
              "      <th>Total intl minutes</th>\n",
              "      <td>3333.0</td>\n",
              "      <td>10.237294</td>\n",
              "      <td>2.791840</td>\n",
              "      <td>0.00</td>\n",
              "      <td>8.50</td>\n",
              "      <td>10.30</td>\n",
              "      <td>12.10</td>\n",
              "      <td>20.00</td>\n",
              "    </tr>\n",
              "    <tr>\n",
              "      <th>Total intl calls</th>\n",
              "      <td>3333.0</td>\n",
              "      <td>4.479448</td>\n",
              "      <td>2.461214</td>\n",
              "      <td>0.00</td>\n",
              "      <td>3.00</td>\n",
              "      <td>4.00</td>\n",
              "      <td>6.00</td>\n",
              "      <td>20.00</td>\n",
              "    </tr>\n",
              "    <tr>\n",
              "      <th>Total intl charge</th>\n",
              "      <td>3333.0</td>\n",
              "      <td>2.764581</td>\n",
              "      <td>0.753773</td>\n",
              "      <td>0.00</td>\n",
              "      <td>2.30</td>\n",
              "      <td>2.78</td>\n",
              "      <td>3.27</td>\n",
              "      <td>5.40</td>\n",
              "    </tr>\n",
              "    <tr>\n",
              "      <th>Customer service calls</th>\n",
              "      <td>3333.0</td>\n",
              "      <td>1.562856</td>\n",
              "      <td>1.315491</td>\n",
              "      <td>0.00</td>\n",
              "      <td>1.00</td>\n",
              "      <td>1.00</td>\n",
              "      <td>2.00</td>\n",
              "      <td>9.00</td>\n",
              "    </tr>\n",
              "  </tbody>\n",
              "</table>\n",
              "</div>"
            ],
            "text/plain": [
              "                         count        mean        std  ...     50%     75%     max\n",
              "Account length          3333.0  101.064806  39.822106  ...  101.00  127.00  243.00\n",
              "Area code               3333.0  437.182418  42.371290  ...  415.00  510.00  510.00\n",
              "Number vmail messages   3333.0    8.099010  13.688365  ...    0.00   20.00   51.00\n",
              "Total day minutes       3333.0  179.775098  54.467389  ...  179.40  216.40  350.80\n",
              "Total day calls         3333.0  100.435644  20.069084  ...  101.00  114.00  165.00\n",
              "Total day charge        3333.0   30.562307   9.259435  ...   30.50   36.79   59.64\n",
              "Total eve minutes       3333.0  200.980348  50.713844  ...  201.40  235.30  363.70\n",
              "Total eve calls         3333.0  100.114311  19.922625  ...  100.00  114.00  170.00\n",
              "Total eve charge        3333.0   17.083540   4.310668  ...   17.12   20.00   30.91\n",
              "Total night minutes     3333.0  200.872037  50.573847  ...  201.20  235.30  395.00\n",
              "Total night calls       3333.0  100.107711  19.568609  ...  100.00  113.00  175.00\n",
              "Total night charge      3333.0    9.039325   2.275873  ...    9.05   10.59   17.77\n",
              "Total intl minutes      3333.0   10.237294   2.791840  ...   10.30   12.10   20.00\n",
              "Total intl calls        3333.0    4.479448   2.461214  ...    4.00    6.00   20.00\n",
              "Total intl charge       3333.0    2.764581   0.753773  ...    2.78    3.27    5.40\n",
              "Customer service calls  3333.0    1.562856   1.315491  ...    1.00    2.00    9.00\n",
              "\n",
              "[16 rows x 8 columns]"
            ]
          },
          "metadata": {},
          "execution_count": 10
        }
      ]
    },
    {
      "cell_type": "code",
      "metadata": {
        "colab": {
          "base_uri": "https://localhost:8080/"
        },
        "id": "ZOyQAGSTj4z_",
        "outputId": "1bb54860-3935-455c-ef15-d420a0a8123a"
      },
      "source": [
        "## Chcking the number of churn rate \n",
        "tele_df['Churn'].value_counts()"
      ],
      "execution_count": null,
      "outputs": [
        {
          "output_type": "execute_result",
          "data": {
            "text/plain": [
              "False    2850\n",
              "True      483\n",
              "Name: Churn, dtype: int64"
            ]
          },
          "metadata": {},
          "execution_count": 11
        }
      ]
    },
    {
      "cell_type": "markdown",
      "metadata": {
        "id": "1X4m22Gil65p"
      },
      "source": [
        "We have less number of churns(True). Let's further analyze to decraese it more"
      ]
    },
    {
      "cell_type": "code",
      "metadata": {
        "id": "KIZd9bxlm12Q"
      },
      "source": [
        "## Now let us convert our Target feature variable(Churn) value to 1 and 0(1 for True and 0 for False). We do this for easy analysis and visualization.\n",
        "tele_df['Churn'].replace({False: 0, True: 1}, inplace = True)"
      ],
      "execution_count": null,
      "outputs": []
    },
    {
      "cell_type": "code",
      "metadata": {
        "colab": {
          "base_uri": "https://localhost:8080/",
          "height": 237
        },
        "id": "eExnHFjdnNu0",
        "outputId": "82ed6e89-ff00-45ac-e35b-cfe094a17019"
      },
      "source": [
        "tele_df.head()"
      ],
      "execution_count": null,
      "outputs": [
        {
          "output_type": "execute_result",
          "data": {
            "text/html": [
              "<div>\n",
              "<style scoped>\n",
              "    .dataframe tbody tr th:only-of-type {\n",
              "        vertical-align: middle;\n",
              "    }\n",
              "\n",
              "    .dataframe tbody tr th {\n",
              "        vertical-align: top;\n",
              "    }\n",
              "\n",
              "    .dataframe thead th {\n",
              "        text-align: right;\n",
              "    }\n",
              "</style>\n",
              "<table border=\"1\" class=\"dataframe\">\n",
              "  <thead>\n",
              "    <tr style=\"text-align: right;\">\n",
              "      <th></th>\n",
              "      <th>State</th>\n",
              "      <th>Account length</th>\n",
              "      <th>Area code</th>\n",
              "      <th>International plan</th>\n",
              "      <th>Voice mail plan</th>\n",
              "      <th>Number vmail messages</th>\n",
              "      <th>Total day minutes</th>\n",
              "      <th>Total day calls</th>\n",
              "      <th>Total day charge</th>\n",
              "      <th>Total eve minutes</th>\n",
              "      <th>Total eve calls</th>\n",
              "      <th>Total eve charge</th>\n",
              "      <th>Total night minutes</th>\n",
              "      <th>Total night calls</th>\n",
              "      <th>Total night charge</th>\n",
              "      <th>Total intl minutes</th>\n",
              "      <th>Total intl calls</th>\n",
              "      <th>Total intl charge</th>\n",
              "      <th>Customer service calls</th>\n",
              "      <th>Churn</th>\n",
              "    </tr>\n",
              "  </thead>\n",
              "  <tbody>\n",
              "    <tr>\n",
              "      <th>0</th>\n",
              "      <td>KS</td>\n",
              "      <td>128</td>\n",
              "      <td>415</td>\n",
              "      <td>No</td>\n",
              "      <td>Yes</td>\n",
              "      <td>25</td>\n",
              "      <td>265.1</td>\n",
              "      <td>110</td>\n",
              "      <td>45.07</td>\n",
              "      <td>197.4</td>\n",
              "      <td>99</td>\n",
              "      <td>16.78</td>\n",
              "      <td>244.7</td>\n",
              "      <td>91</td>\n",
              "      <td>11.01</td>\n",
              "      <td>10.0</td>\n",
              "      <td>3</td>\n",
              "      <td>2.70</td>\n",
              "      <td>1</td>\n",
              "      <td>0</td>\n",
              "    </tr>\n",
              "    <tr>\n",
              "      <th>1</th>\n",
              "      <td>OH</td>\n",
              "      <td>107</td>\n",
              "      <td>415</td>\n",
              "      <td>No</td>\n",
              "      <td>Yes</td>\n",
              "      <td>26</td>\n",
              "      <td>161.6</td>\n",
              "      <td>123</td>\n",
              "      <td>27.47</td>\n",
              "      <td>195.5</td>\n",
              "      <td>103</td>\n",
              "      <td>16.62</td>\n",
              "      <td>254.4</td>\n",
              "      <td>103</td>\n",
              "      <td>11.45</td>\n",
              "      <td>13.7</td>\n",
              "      <td>3</td>\n",
              "      <td>3.70</td>\n",
              "      <td>1</td>\n",
              "      <td>0</td>\n",
              "    </tr>\n",
              "    <tr>\n",
              "      <th>2</th>\n",
              "      <td>NJ</td>\n",
              "      <td>137</td>\n",
              "      <td>415</td>\n",
              "      <td>No</td>\n",
              "      <td>No</td>\n",
              "      <td>0</td>\n",
              "      <td>243.4</td>\n",
              "      <td>114</td>\n",
              "      <td>41.38</td>\n",
              "      <td>121.2</td>\n",
              "      <td>110</td>\n",
              "      <td>10.30</td>\n",
              "      <td>162.6</td>\n",
              "      <td>104</td>\n",
              "      <td>7.32</td>\n",
              "      <td>12.2</td>\n",
              "      <td>5</td>\n",
              "      <td>3.29</td>\n",
              "      <td>0</td>\n",
              "      <td>0</td>\n",
              "    </tr>\n",
              "    <tr>\n",
              "      <th>3</th>\n",
              "      <td>OH</td>\n",
              "      <td>84</td>\n",
              "      <td>408</td>\n",
              "      <td>Yes</td>\n",
              "      <td>No</td>\n",
              "      <td>0</td>\n",
              "      <td>299.4</td>\n",
              "      <td>71</td>\n",
              "      <td>50.90</td>\n",
              "      <td>61.9</td>\n",
              "      <td>88</td>\n",
              "      <td>5.26</td>\n",
              "      <td>196.9</td>\n",
              "      <td>89</td>\n",
              "      <td>8.86</td>\n",
              "      <td>6.6</td>\n",
              "      <td>7</td>\n",
              "      <td>1.78</td>\n",
              "      <td>2</td>\n",
              "      <td>0</td>\n",
              "    </tr>\n",
              "    <tr>\n",
              "      <th>4</th>\n",
              "      <td>OK</td>\n",
              "      <td>75</td>\n",
              "      <td>415</td>\n",
              "      <td>Yes</td>\n",
              "      <td>No</td>\n",
              "      <td>0</td>\n",
              "      <td>166.7</td>\n",
              "      <td>113</td>\n",
              "      <td>28.34</td>\n",
              "      <td>148.3</td>\n",
              "      <td>122</td>\n",
              "      <td>12.61</td>\n",
              "      <td>186.9</td>\n",
              "      <td>121</td>\n",
              "      <td>8.41</td>\n",
              "      <td>10.1</td>\n",
              "      <td>3</td>\n",
              "      <td>2.73</td>\n",
              "      <td>3</td>\n",
              "      <td>0</td>\n",
              "    </tr>\n",
              "  </tbody>\n",
              "</table>\n",
              "</div>"
            ],
            "text/plain": [
              "  State  Account length  ...  Customer service calls Churn\n",
              "0    KS             128  ...                       1     0\n",
              "1    OH             107  ...                       1     0\n",
              "2    NJ             137  ...                       0     0\n",
              "3    OH              84  ...                       2     0\n",
              "4    OK              75  ...                       3     0\n",
              "\n",
              "[5 rows x 20 columns]"
            ]
          },
          "metadata": {},
          "execution_count": 13
        }
      ]
    },
    {
      "cell_type": "markdown",
      "metadata": {
        "id": "yANtMHnmvJFm"
      },
      "source": [
        "## Basic Analysis & Visualization of Data"
      ]
    },
    {
      "cell_type": "markdown",
      "metadata": {
        "id": "e5nphUvsva4d"
      },
      "source": [
        "Churn Visualization using Catplot"
      ]
    },
    {
      "cell_type": "code",
      "metadata": {
        "colab": {
          "base_uri": "https://localhost:8080/",
          "height": 386
        },
        "id": "1dpTTAGwnQTg",
        "outputId": "df2f55e3-8eeb-4635-afca-ed55b9b407db"
      },
      "source": [
        "sns.catplot(x = 'Churn', kind = 'count', data = tele_df)"
      ],
      "execution_count": null,
      "outputs": [
        {
          "output_type": "execute_result",
          "data": {
            "text/plain": [
              "<seaborn.axisgrid.FacetGrid at 0x7f6aa7c62990>"
            ]
          },
          "metadata": {},
          "execution_count": 14
        },
        {
          "output_type": "display_data",
          "data": {
            "image/png": "[encoded data removed]",
            "text/plain": [
              "<Figure size 360x360 with 1 Axes>"
            ]
          },
          "metadata": {
            "needs_background": "light"
          }
        }
      ]
    },
    {
      "cell_type": "markdown",
      "metadata": {
        "id": "VG6hg-P5vn2I"
      },
      "source": [
        "Plotting how many customer's have International Plan using count plot"
      ]
    },
    {
      "cell_type": "code",
      "metadata": {
        "colab": {
          "base_uri": "https://localhost:8080/",
          "height": 296
        },
        "id": "ROVg6j3Vt25x",
        "outputId": "e294404e-51dc-4976-9f8e-7777b8072ebd"
      },
      "source": [
        "sns.countplot(data = tele_df, x = 'International plan')"
      ],
      "execution_count": null,
      "outputs": [
        {
          "output_type": "execute_result",
          "data": {
            "text/plain": [
              "<matplotlib.axes._subplots.AxesSubplot at 0x7f6a9f38d590>"
            ]
          },
          "metadata": {},
          "execution_count": 15
        },
        {
          "output_type": "display_data",
          "data": {
            "image/png": "[encoded data removed]",
            "text/plain": [
              "<Figure size 432x288 with 1 Axes>"
            ]
          },
          "metadata": {
            "needs_background": "light"
          }
        }
      ]
    },
    {
      "cell_type": "markdown",
      "metadata": {
        "id": "NpNYiAXgwLY3"
      },
      "source": [
        "We can observe that there are not many customer's who opted for internationla plan. Now let's plot how many customer's have opted for voice mail plan."
      ]
    },
    {
      "cell_type": "code",
      "metadata": {
        "colab": {
          "base_uri": "https://localhost:8080/",
          "height": 298
        },
        "id": "1fQTy6qqwDCj",
        "outputId": "e57ba38c-2227-471d-a383-0bdb3e11d1de"
      },
      "source": [
        "sns.countplot(data = tele_df, x = 'Voice mail plan')"
      ],
      "execution_count": null,
      "outputs": [
        {
          "output_type": "execute_result",
          "data": {
            "text/plain": [
              "<matplotlib.axes._subplots.AxesSubplot at 0x7f6a9f2eb990>"
            ]
          },
          "metadata": {},
          "execution_count": 16
        },
        {
          "output_type": "display_data",
          "data": {
            "image/png": "[encoded data removed]",
            "text/plain": [
              "<Figure size 432x288 with 1 Axes>"
            ]
          },
          "metadata": {
            "needs_background": "light"
          }
        }
      ]
    },
    {
      "cell_type": "markdown",
      "metadata": {
        "id": "3psGfQfgxNSq"
      },
      "source": [
        "Approximately 30% of our customer's have opted for voice mail plan. Now let us plot number of customer service calls made by customer's"
      ]
    },
    {
      "cell_type": "code",
      "metadata": {
        "colab": {
          "base_uri": "https://localhost:8080/",
          "height": 295
        },
        "id": "zZXP-QKlwv4S",
        "outputId": "494a7931-2d0d-40ee-ab3b-c681ac990075"
      },
      "source": [
        "sns.countplot(data= tele_df, x = 'Customer service calls')\n",
        "plt.title(\"No. of Customer Service Calls\")\n",
        "plt.show()"
      ],
      "execution_count": null,
      "outputs": [
        {
          "output_type": "display_data",
          "data": {
            "image/png": "[encoded data removed]",
            "text/plain": [
              "<Figure size 432x288 with 1 Axes>"
            ]
          },
          "metadata": {
            "needs_background": "light"
          }
        }
      ]
    },
    {
      "cell_type": "markdown",
      "metadata": {
        "id": "CIX5ZruSysc4"
      },
      "source": [
        "We can observce that most number of customer's make between 0 to 3 calls to out customer service. No let us check and plot from which state most of our customer's belongs to."
      ]
    },
    {
      "cell_type": "code",
      "metadata": {
        "colab": {
          "base_uri": "https://localhost:8080/"
        },
        "id": "WidTTOQQye2h",
        "outputId": "d38881da-3e25-421e-fc94-dbea9a5ef2d7"
      },
      "source": [
        "tele_df['State'].value_counts()"
      ],
      "execution_count": null,
      "outputs": [
        {
          "output_type": "execute_result",
          "data": {
            "text/plain": [
              "WV    106\n",
              "MN     84\n",
              "NY     83\n",
              "AL     80\n",
              "OR     78\n",
              "WI     78\n",
              "OH     78\n",
              "VA     77\n",
              "WY     77\n",
              "CT     74\n",
              "ID     73\n",
              "VT     73\n",
              "MI     73\n",
              "TX     72\n",
              "UT     72\n",
              "IN     71\n",
              "MD     70\n",
              "KS     70\n",
              "MT     68\n",
              "NC     68\n",
              "NJ     68\n",
              "CO     66\n",
              "WA     66\n",
              "NV     66\n",
              "MS     65\n",
              "RI     65\n",
              "MA     65\n",
              "AZ     64\n",
              "MO     63\n",
              "FL     63\n",
              "NM     62\n",
              "ME     62\n",
              "ND     62\n",
              "OK     61\n",
              "NE     61\n",
              "DE     61\n",
              "SC     60\n",
              "SD     60\n",
              "KY     59\n",
              "IL     58\n",
              "NH     56\n",
              "AR     55\n",
              "DC     54\n",
              "GA     54\n",
              "TN     53\n",
              "HI     53\n",
              "AK     52\n",
              "LA     51\n",
              "PA     45\n",
              "IA     44\n",
              "CA     34\n",
              "Name: State, dtype: int64"
            ]
          },
          "metadata": {},
          "execution_count": 18
        }
      ]
    },
    {
      "cell_type": "code",
      "metadata": {
        "colab": {
          "base_uri": "https://localhost:8080/"
        },
        "id": "ePbgNa2anqJ4",
        "outputId": "58482b9d-94d6-46cb-8962-fe079191faa3"
      },
      "source": [
        "tele_df['State'].nunique()"
      ],
      "execution_count": null,
      "outputs": [
        {
          "output_type": "execute_result",
          "data": {
            "text/plain": [
              "51"
            ]
          },
          "metadata": {},
          "execution_count": 19
        }
      ]
    },
    {
      "cell_type": "code",
      "metadata": {
        "colab": {
          "base_uri": "https://localhost:8080/"
        },
        "id": "8LMVDlfMCR-L",
        "outputId": "8411793e-cd46-47b4-fc02-016f7cff4f9d"
      },
      "source": [
        "print(f\"Most of our Customer's belongs to {tele_df['State'].max()} State\")\n",
        "print(f\"Least of our Customer's belongs to {tele_df['State'].min()} State\")"
      ],
      "execution_count": null,
      "outputs": [
        {
          "output_type": "stream",
          "name": "stdout",
          "text": [
            "Most of our Customer's belongs to WY State\n",
            "Least of our Customer's belongs to AK State\n"
          ]
        }
      ]
    },
    {
      "cell_type": "markdown",
      "metadata": {
        "id": "CNtkZt2gCzDq"
      },
      "source": [
        "## Relationship Analysis\n",
        "Let us now begin a fun part. We will check relationship between our  feature and target feature one by one. And will also check how it effects the Churn rate and what kind of relationship is between our feature and target variables. Also we will check what kind of relationship is there between our features."
      ]
    },
    {
      "cell_type": "markdown",
      "metadata": {
        "id": "iCCxyxPME-X_"
      },
      "source": [
        "**Let's make a new columns with name total_minutes(total call minutes for day, evening, night & Intl). And check which state contributes most number of call minutes.**"
      ]
    },
    {
      "cell_type": "code",
      "metadata": {
        "id": "97CMxRVjz6VV"
      },
      "source": [
        "tele_df['Total minutes'] = tele_df['Total day minutes'] + tele_df['Total eve minutes'] + tele_df['Total night minutes'] + tele_df['Total intl minutes']"
      ],
      "execution_count": null,
      "outputs": []
    },
    {
      "cell_type": "code",
      "metadata": {
        "colab": {
          "base_uri": "https://localhost:8080/",
          "height": 237
        },
        "id": "0senMyF5F2eb",
        "outputId": "256092b0-55f8-4b9b-8887-058ba65c0fbb"
      },
      "source": [
        "tele_df.head()"
      ],
      "execution_count": null,
      "outputs": [
        {
          "output_type": "execute_result",
          "data": {
            "text/html": [
              "<div>\n",
              "<style scoped>\n",
              "    .dataframe tbody tr th:only-of-type {\n",
              "        vertical-align: middle;\n",
              "    }\n",
              "\n",
              "    .dataframe tbody tr th {\n",
              "        vertical-align: top;\n",
              "    }\n",
              "\n",
              "    .dataframe thead th {\n",
              "        text-align: right;\n",
              "    }\n",
              "</style>\n",
              "<table border=\"1\" class=\"dataframe\">\n",
              "  <thead>\n",
              "    <tr style=\"text-align: right;\">\n",
              "      <th></th>\n",
              "      <th>State</th>\n",
              "      <th>Account length</th>\n",
              "      <th>Area code</th>\n",
              "      <th>International plan</th>\n",
              "      <th>Voice mail plan</th>\n",
              "      <th>Number vmail messages</th>\n",
              "      <th>Total day minutes</th>\n",
              "      <th>Total day calls</th>\n",
              "      <th>Total day charge</th>\n",
              "      <th>Total eve minutes</th>\n",
              "      <th>Total eve calls</th>\n",
              "      <th>Total eve charge</th>\n",
              "      <th>Total night minutes</th>\n",
              "      <th>Total night calls</th>\n",
              "      <th>Total night charge</th>\n",
              "      <th>Total intl minutes</th>\n",
              "      <th>Total intl calls</th>\n",
              "      <th>Total intl charge</th>\n",
              "      <th>Customer service calls</th>\n",
              "      <th>Churn</th>\n",
              "      <th>Total minutes</th>\n",
              "    </tr>\n",
              "  </thead>\n",
              "  <tbody>\n",
              "    <tr>\n",
              "      <th>0</th>\n",
              "      <td>KS</td>\n",
              "      <td>128</td>\n",
              "      <td>415</td>\n",
              "      <td>No</td>\n",
              "      <td>Yes</td>\n",
              "      <td>25</td>\n",
              "      <td>265.1</td>\n",
              "      <td>110</td>\n",
              "      <td>45.07</td>\n",
              "      <td>197.4</td>\n",
              "      <td>99</td>\n",
              "      <td>16.78</td>\n",
              "      <td>244.7</td>\n",
              "      <td>91</td>\n",
              "      <td>11.01</td>\n",
              "      <td>10.0</td>\n",
              "      <td>3</td>\n",
              "      <td>2.70</td>\n",
              "      <td>1</td>\n",
              "      <td>0</td>\n",
              "      <td>717.2</td>\n",
              "    </tr>\n",
              "    <tr>\n",
              "      <th>1</th>\n",
              "      <td>OH</td>\n",
              "      <td>107</td>\n",
              "      <td>415</td>\n",
              "      <td>No</td>\n",
              "      <td>Yes</td>\n",
              "      <td>26</td>\n",
              "      <td>161.6</td>\n",
              "      <td>123</td>\n",
              "      <td>27.47</td>\n",
              "      <td>195.5</td>\n",
              "      <td>103</td>\n",
              "      <td>16.62</td>\n",
              "      <td>254.4</td>\n",
              "      <td>103</td>\n",
              "      <td>11.45</td>\n",
              "      <td>13.7</td>\n",
              "      <td>3</td>\n",
              "      <td>3.70</td>\n",
              "      <td>1</td>\n",
              "      <td>0</td>\n",
              "      <td>625.2</td>\n",
              "    </tr>\n",
              "    <tr>\n",
              "      <th>2</th>\n",
              "      <td>NJ</td>\n",
              "      <td>137</td>\n",
              "      <td>415</td>\n",
              "      <td>No</td>\n",
              "      <td>No</td>\n",
              "      <td>0</td>\n",
              "      <td>243.4</td>\n",
              "      <td>114</td>\n",
              "      <td>41.38</td>\n",
              "      <td>121.2</td>\n",
              "      <td>110</td>\n",
              "      <td>10.30</td>\n",
              "      <td>162.6</td>\n",
              "      <td>104</td>\n",
              "      <td>7.32</td>\n",
              "      <td>12.2</td>\n",
              "      <td>5</td>\n",
              "      <td>3.29</td>\n",
              "      <td>0</td>\n",
              "      <td>0</td>\n",
              "      <td>539.4</td>\n",
              "    </tr>\n",
              "    <tr>\n",
              "      <th>3</th>\n",
              "      <td>OH</td>\n",
              "      <td>84</td>\n",
              "      <td>408</td>\n",
              "      <td>Yes</td>\n",
              "      <td>No</td>\n",
              "      <td>0</td>\n",
              "      <td>299.4</td>\n",
              "      <td>71</td>\n",
              "      <td>50.90</td>\n",
              "      <td>61.9</td>\n",
              "      <td>88</td>\n",
              "      <td>5.26</td>\n",
              "      <td>196.9</td>\n",
              "      <td>89</td>\n",
              "      <td>8.86</td>\n",
              "      <td>6.6</td>\n",
              "      <td>7</td>\n",
              "      <td>1.78</td>\n",
              "      <td>2</td>\n",
              "      <td>0</td>\n",
              "      <td>564.8</td>\n",
              "    </tr>\n",
              "    <tr>\n",
              "      <th>4</th>\n",
              "      <td>OK</td>\n",
              "      <td>75</td>\n",
              "      <td>415</td>\n",
              "      <td>Yes</td>\n",
              "      <td>No</td>\n",
              "      <td>0</td>\n",
              "      <td>166.7</td>\n",
              "      <td>113</td>\n",
              "      <td>28.34</td>\n",
              "      <td>148.3</td>\n",
              "      <td>122</td>\n",
              "      <td>12.61</td>\n",
              "      <td>186.9</td>\n",
              "      <td>121</td>\n",
              "      <td>8.41</td>\n",
              "      <td>10.1</td>\n",
              "      <td>3</td>\n",
              "      <td>2.73</td>\n",
              "      <td>3</td>\n",
              "      <td>0</td>\n",
              "      <td>512.0</td>\n",
              "    </tr>\n",
              "  </tbody>\n",
              "</table>\n",
              "</div>"
            ],
            "text/plain": [
              "  State  Account length  ...  Churn Total minutes\n",
              "0    KS             128  ...      0         717.2\n",
              "1    OH             107  ...      0         625.2\n",
              "2    NJ             137  ...      0         539.4\n",
              "3    OH              84  ...      0         564.8\n",
              "4    OK              75  ...      0         512.0\n",
              "\n",
              "[5 rows x 21 columns]"
            ]
          },
          "metadata": {},
          "execution_count": 22
        }
      ]
    },
    {
      "cell_type": "code",
      "metadata": {
        "id": "6y7I3Ha8F4n6",
        "colab": {
          "base_uri": "https://localhost:8080/",
          "height": 507
        },
        "outputId": "faa45c58-d178-41ce-c534-d660d56dc11a"
      },
      "source": [
        "## For checking which state have higher number of minutes we will groupby 'State' column w.r.t 'Total minutes' columns.\n",
        "plt.figure(figsize=(15,8))\n",
        "tele_df.groupby('State')['Total minutes'].sum().sort_values(ascending=False).plot(kind = 'bar')\n",
        "plt.xlabel(\"State\", size=12)\n",
        "plt.ylabel(\"Total minutes\", size=12)\n",
        "plt.show()"
      ],
      "execution_count": null,
      "outputs": [
        {
          "output_type": "display_data",
          "data": {
            "image/png": "[encoded data removed]",
            "text/plain": [
              "<Figure size 1080x576 with 1 Axes>"
            ]
          },
          "metadata": {
            "needs_background": "light"
          }
        }
      ]
    },
    {
      "cell_type": "code",
      "metadata": {
        "colab": {
          "base_uri": "https://localhost:8080/"
        },
        "id": "o3oW1w3rZr79",
        "outputId": "078e4bec-b5af-4818-a38d-e28d3a0e2e19"
      },
      "source": [
        "print(f\"State with highest minutes of calls : {tele_df.groupby('State')['Total minutes'].sum().idxmax()}\")\n",
        "print(f\"State with lowest minutes of calls : {tele_df.groupby('State')['Total minutes'].sum().idxmin()}\")"
      ],
      "execution_count": null,
      "outputs": [
        {
          "output_type": "stream",
          "name": "stdout",
          "text": [
            "State with highest minutes of calls : WV\n",
            "State with lowest minutes of calls : CA\n"
          ]
        }
      ]
    },
    {
      "cell_type": "markdown",
      "metadata": {
        "id": "tAAZ12RsbnUn"
      },
      "source": [
        "We can observe that state with highest number of customer's don't have highest minutes of calls and same for state with least number of customer's i.e, *AK* have higher minutes than other 3 States i.e, *PA, IA & CA*"
      ]
    },
    {
      "cell_type": "markdown",
      "metadata": {
        "id": "mEv_BvnKbkbe"
      },
      "source": [
        "**Cool, now let's compare which state have higher churn customers and also which state have higher churn rate(i.e highest % of churn rate)**"
      ]
    },
    {
      "cell_type": "code",
      "metadata": {
        "colab": {
          "base_uri": "https://localhost:8080/",
          "height": 507
        },
        "id": "ReSk0tdabKjy",
        "outputId": "e04ffd9b-fc2a-4bf2-93cb-2ce344a91163"
      },
      "source": [
        "plt.figure(figsize=(15,8))\n",
        "tele_df.groupby('State')['Churn'].sum().sort_values(ascending=True).plot(kind='bar')\n",
        "plt.xlabel(\"State\", size=12)\n",
        "plt.ylabel(\"Churn\", size=12)\n",
        "plt.ylim(1,19)\n",
        "plt.show()"
      ],
      "execution_count": null,
      "outputs": [
        {
          "output_type": "display_data",
          "data": {
            "image/png": "[encoded data removed]",
            "text/plain": [
              "<Figure size 1080x576 with 1 Axes>"
            ]
          },
          "metadata": {
            "needs_background": "light"
          }
        }
      ]
    },
    {
      "cell_type": "markdown",
      "metadata": {
        "id": "b6m1VbzGboqo"
      },
      "source": [
        "We can observce that TX has the highest number of Churns and AK is on the lowest side."
      ]
    },
    {
      "cell_type": "markdown",
      "metadata": {
        "id": "Kw-WqkKUcHsK"
      },
      "source": [
        "**Now let us check how Voice mail plan is impacting the churn**"
      ]
    },
    {
      "cell_type": "code",
      "metadata": {
        "id": "eqmzd_LRpCh9",
        "colab": {
          "base_uri": "https://localhost:8080/",
          "height": 296
        },
        "outputId": "8084c2d7-f3d8-4acd-8aab-9915f443b358"
      },
      "source": [
        "sns.countplot(x='Voice mail plan', hue='Churn', data=tele_df)"
      ],
      "execution_count": 37,
      "outputs": [
        {
          "output_type": "execute_result",
          "data": {
            "text/plain": [
              "<matplotlib.axes._subplots.AxesSubplot at 0x7f6a988e9a10>"
            ]
          },
          "metadata": {},
          "execution_count": 37
        },
        {
          "output_type": "display_data",
          "data": {
            "image/png": "[encoded data removed]",
            "text/plain": [
              "<Figure size 432x288 with 1 Axes>"
            ]
          },
          "metadata": {
            "needs_background": "light"
          }
        }
      ]
    },
    {
      "cell_type": "markdown",
      "metadata": {
        "id": "HhijxP6Jg5-R"
      },
      "source": [
        "Let's check it numerically to get better insights."
      ]
    },
    {
      "cell_type": "code",
      "metadata": {
        "colab": {
          "base_uri": "https://localhost:8080/",
          "height": 142
        },
        "id": "ACWHDHNWgDit",
        "outputId": "e0f8b722-1522-4d50-9f71-ec8245ef288d"
      },
      "source": [
        "pd.crosstab(tele_df['Voice mail plan'], tele_df['Churn'])"
      ],
      "execution_count": 38,
      "outputs": [
        {
          "output_type": "execute_result",
          "data": {
            "text/html": [
              "<div>\n",
              "<style scoped>\n",
              "    .dataframe tbody tr th:only-of-type {\n",
              "        vertical-align: middle;\n",
              "    }\n",
              "\n",
              "    .dataframe tbody tr th {\n",
              "        vertical-align: top;\n",
              "    }\n",
              "\n",
              "    .dataframe thead th {\n",
              "        text-align: right;\n",
              "    }\n",
              "</style>\n",
              "<table border=\"1\" class=\"dataframe\">\n",
              "  <thead>\n",
              "    <tr style=\"text-align: right;\">\n",
              "      <th>Churn</th>\n",
              "      <th>False</th>\n",
              "      <th>True</th>\n",
              "    </tr>\n",
              "    <tr>\n",
              "      <th>Voice mail plan</th>\n",
              "      <th></th>\n",
              "      <th></th>\n",
              "    </tr>\n",
              "  </thead>\n",
              "  <tbody>\n",
              "    <tr>\n",
              "      <th>No</th>\n",
              "      <td>2008</td>\n",
              "      <td>403</td>\n",
              "    </tr>\n",
              "    <tr>\n",
              "      <th>Yes</th>\n",
              "      <td>842</td>\n",
              "      <td>80</td>\n",
              "    </tr>\n",
              "  </tbody>\n",
              "</table>\n",
              "</div>"
            ],
            "text/plain": [
              "Churn            False  True \n",
              "Voice mail plan              \n",
              "No                2008    403\n",
              "Yes                842     80"
            ]
          },
          "metadata": {},
          "execution_count": 38
        }
      ]
    },
    {
      "cell_type": "code",
      "metadata": {
        "colab": {
          "base_uri": "https://localhost:8080/",
          "height": 142
        },
        "id": "AL4OQ2vOke9q",
        "outputId": "27ca0ace-22ec-46f0-d21a-3961d46b8db1"
      },
      "source": [
        "pd.crosstab(tele_df['Voice mail plan'], tele_df['Churn'], normalize='index')"
      ],
      "execution_count": 42,
      "outputs": [
        {
          "output_type": "execute_result",
          "data": {
            "text/html": [
              "<div>\n",
              "<style scoped>\n",
              "    .dataframe tbody tr th:only-of-type {\n",
              "        vertical-align: middle;\n",
              "    }\n",
              "\n",
              "    .dataframe tbody tr th {\n",
              "        vertical-align: top;\n",
              "    }\n",
              "\n",
              "    .dataframe thead th {\n",
              "        text-align: right;\n",
              "    }\n",
              "</style>\n",
              "<table border=\"1\" class=\"dataframe\">\n",
              "  <thead>\n",
              "    <tr style=\"text-align: right;\">\n",
              "      <th>Churn</th>\n",
              "      <th>False</th>\n",
              "      <th>True</th>\n",
              "    </tr>\n",
              "    <tr>\n",
              "      <th>Voice mail plan</th>\n",
              "      <th></th>\n",
              "      <th></th>\n",
              "    </tr>\n",
              "  </thead>\n",
              "  <tbody>\n",
              "    <tr>\n",
              "      <th>No</th>\n",
              "      <td>0.832849</td>\n",
              "      <td>0.167151</td>\n",
              "    </tr>\n",
              "    <tr>\n",
              "      <th>Yes</th>\n",
              "      <td>0.913232</td>\n",
              "      <td>0.086768</td>\n",
              "    </tr>\n",
              "  </tbody>\n",
              "</table>\n",
              "</div>"
            ],
            "text/plain": [
              "Churn               False     True \n",
              "Voice mail plan                    \n",
              "No               0.832849  0.167151\n",
              "Yes              0.913232  0.086768"
            ]
          },
          "metadata": {},
          "execution_count": 42
        }
      ]
    },
    {
      "cell_type": "markdown",
      "metadata": {
        "id": "YJlCNA9Qhf2S"
      },
      "source": [
        "We can see that around 8% of the customer's churn for those who have opted for Voice mail plan and around 16% of the customer's churn for those who not opted for Voice mail plan."
      ]
    },
    {
      "cell_type": "markdown",
      "metadata": {
        "id": "hj-wbr-kiOXW"
      },
      "source": [
        "**As we now know that *Voice mail plan* is impacting the churn rate of our customer's by approximately 8%. Let's check if *International plan* have impact on churn rate or not**"
      ]
    },
    {
      "cell_type": "code",
      "metadata": {
        "colab": {
          "base_uri": "https://localhost:8080/",
          "height": 296
        },
        "id": "wxFBBb7Woj2Z",
        "outputId": "a4bb819b-21b4-4169-c7ec-b0cf437d3d8c"
      },
      "source": [
        "sns.countplot(x='International plan', hue='Churn', data=tele_df)"
      ],
      "execution_count": 47,
      "outputs": [
        {
          "output_type": "execute_result",
          "data": {
            "text/plain": [
              "<matplotlib.axes._subplots.AxesSubplot at 0x7f6a98266550>"
            ]
          },
          "metadata": {},
          "execution_count": 47
        },
        {
          "output_type": "display_data",
          "data": {
            "image/png": "[encoded data removed]",
            "text/plain": [
              "<Figure size 432x288 with 1 Axes>"
            ]
          },
          "metadata": {
            "needs_background": "light"
          }
        }
      ]
    },
    {
      "cell_type": "code",
      "metadata": {
        "colab": {
          "base_uri": "https://localhost:8080/",
          "height": 142
        },
        "id": "8pxdxex7hV7c",
        "outputId": "dbd7d513-e6f7-4ecb-bfa7-409bf471dde4"
      },
      "source": [
        "pd.crosstab(tele_df['International plan'], tele_df['Churn'])"
      ],
      "execution_count": 41,
      "outputs": [
        {
          "output_type": "execute_result",
          "data": {
            "text/html": [
              "<div>\n",
              "<style scoped>\n",
              "    .dataframe tbody tr th:only-of-type {\n",
              "        vertical-align: middle;\n",
              "    }\n",
              "\n",
              "    .dataframe tbody tr th {\n",
              "        vertical-align: top;\n",
              "    }\n",
              "\n",
              "    .dataframe thead th {\n",
              "        text-align: right;\n",
              "    }\n",
              "</style>\n",
              "<table border=\"1\" class=\"dataframe\">\n",
              "  <thead>\n",
              "    <tr style=\"text-align: right;\">\n",
              "      <th>Churn</th>\n",
              "      <th>False</th>\n",
              "      <th>True</th>\n",
              "    </tr>\n",
              "    <tr>\n",
              "      <th>International plan</th>\n",
              "      <th></th>\n",
              "      <th></th>\n",
              "    </tr>\n",
              "  </thead>\n",
              "  <tbody>\n",
              "    <tr>\n",
              "      <th>No</th>\n",
              "      <td>2664</td>\n",
              "      <td>346</td>\n",
              "    </tr>\n",
              "    <tr>\n",
              "      <th>Yes</th>\n",
              "      <td>186</td>\n",
              "      <td>137</td>\n",
              "    </tr>\n",
              "  </tbody>\n",
              "</table>\n",
              "</div>"
            ],
            "text/plain": [
              "Churn               False  True \n",
              "International plan              \n",
              "No                   2664    346\n",
              "Yes                   186    137"
            ]
          },
          "metadata": {},
          "execution_count": 41
        }
      ]
    },
    {
      "cell_type": "code",
      "metadata": {
        "colab": {
          "base_uri": "https://localhost:8080/",
          "height": 142
        },
        "id": "qBLl0WBLlD2L",
        "outputId": "55bb295c-a065-4b28-c8e8-66728fac207c"
      },
      "source": [
        "pd.crosstab(tele_df['International plan'], tele_df['Churn'], normalize='index')"
      ],
      "execution_count": 43,
      "outputs": [
        {
          "output_type": "execute_result",
          "data": {
            "text/html": [
              "<div>\n",
              "<style scoped>\n",
              "    .dataframe tbody tr th:only-of-type {\n",
              "        vertical-align: middle;\n",
              "    }\n",
              "\n",
              "    .dataframe tbody tr th {\n",
              "        vertical-align: top;\n",
              "    }\n",
              "\n",
              "    .dataframe thead th {\n",
              "        text-align: right;\n",
              "    }\n",
              "</style>\n",
              "<table border=\"1\" class=\"dataframe\">\n",
              "  <thead>\n",
              "    <tr style=\"text-align: right;\">\n",
              "      <th>Churn</th>\n",
              "      <th>False</th>\n",
              "      <th>True</th>\n",
              "    </tr>\n",
              "    <tr>\n",
              "      <th>International plan</th>\n",
              "      <th></th>\n",
              "      <th></th>\n",
              "    </tr>\n",
              "  </thead>\n",
              "  <tbody>\n",
              "    <tr>\n",
              "      <th>No</th>\n",
              "      <td>0.885050</td>\n",
              "      <td>0.114950</td>\n",
              "    </tr>\n",
              "    <tr>\n",
              "      <th>Yes</th>\n",
              "      <td>0.575851</td>\n",
              "      <td>0.424149</td>\n",
              "    </tr>\n",
              "  </tbody>\n",
              "</table>\n",
              "</div>"
            ],
            "text/plain": [
              "Churn                  False     True \n",
              "International plan                    \n",
              "No                  0.885050  0.114950\n",
              "Yes                 0.575851  0.424149"
            ]
          },
          "metadata": {},
          "execution_count": 43
        }
      ]
    },
    {
      "cell_type": "markdown",
      "metadata": {
        "id": "MCdi_mOwj3YF"
      },
      "source": [
        "Now that's a master stroke. We can see that, those customer who have International plan are more likely to go churn than those who don't. As 42% of those who have *International plan* have went churn and around 11% for those who didn't have *International Plan*"
      ]
    },
    {
      "cell_type": "markdown",
      "metadata": {
        "id": "UjM1vkYzmC0O"
      },
      "source": [
        "**Before moving further into more complex analysis among features themselves. Let us first check how Customer service calls is impacting a churn rate.**"
      ]
    },
    {
      "cell_type": "code",
      "metadata": {
        "colab": {
          "base_uri": "https://localhost:8080/",
          "height": 514
        },
        "id": "ioHWYRZ3iu2c",
        "outputId": "646b74cd-a539-4e82-94c7-dbcdd9beeb06"
      },
      "source": [
        "plt.figure(figsize=(8,8))\n",
        "sns.countplot(x='Customer service calls', hue='Churn', data=tele_df)"
      ],
      "execution_count": 46,
      "outputs": [
        {
          "output_type": "execute_result",
          "data": {
            "text/plain": [
              "<matplotlib.axes._subplots.AxesSubplot at 0x7f6a9833dc90>"
            ]
          },
          "metadata": {},
          "execution_count": 46
        },
        {
          "output_type": "display_data",
          "data": {
            "image/png": "[encoded data removed]",
            "text/plain": [
              "<Figure size 576x576 with 1 Axes>"
            ]
          },
          "metadata": {
            "needs_background": "light"
          }
        }
      ]
    },
    {
      "cell_type": "markdown",
      "metadata": {
        "id": "-qHR21f0oyCs"
      },
      "source": [
        "Here we can clearly observe that those customer's who have called customer service for more than 3 time are more like to go churn than those who have called 3 or lesser number of times."
      ]
    },
    {
      "cell_type": "code",
      "metadata": {
        "colab": {
          "base_uri": "https://localhost:8080/",
          "height": 388
        },
        "id": "xzSkrcqupHPd",
        "outputId": "fe8ac0de-8c61-413c-c977-c38af21986c8"
      },
      "source": [
        "pd.crosstab(tele_df['Customer service calls'], tele_df['Churn'], normalize='index')"
      ],
      "execution_count": 48,
      "outputs": [
        {
          "output_type": "execute_result",
          "data": {
            "text/html": [
              "<div>\n",
              "<style scoped>\n",
              "    .dataframe tbody tr th:only-of-type {\n",
              "        vertical-align: middle;\n",
              "    }\n",
              "\n",
              "    .dataframe tbody tr th {\n",
              "        vertical-align: top;\n",
              "    }\n",
              "\n",
              "    .dataframe thead th {\n",
              "        text-align: right;\n",
              "    }\n",
              "</style>\n",
              "<table border=\"1\" class=\"dataframe\">\n",
              "  <thead>\n",
              "    <tr style=\"text-align: right;\">\n",
              "      <th>Churn</th>\n",
              "      <th>False</th>\n",
              "      <th>True</th>\n",
              "    </tr>\n",
              "    <tr>\n",
              "      <th>Customer service calls</th>\n",
              "      <th></th>\n",
              "      <th></th>\n",
              "    </tr>\n",
              "  </thead>\n",
              "  <tbody>\n",
              "    <tr>\n",
              "      <th>0</th>\n",
              "      <td>0.868006</td>\n",
              "      <td>0.131994</td>\n",
              "    </tr>\n",
              "    <tr>\n",
              "      <th>1</th>\n",
              "      <td>0.896698</td>\n",
              "      <td>0.103302</td>\n",
              "    </tr>\n",
              "    <tr>\n",
              "      <th>2</th>\n",
              "      <td>0.885375</td>\n",
              "      <td>0.114625</td>\n",
              "    </tr>\n",
              "    <tr>\n",
              "      <th>3</th>\n",
              "      <td>0.897436</td>\n",
              "      <td>0.102564</td>\n",
              "    </tr>\n",
              "    <tr>\n",
              "      <th>4</th>\n",
              "      <td>0.542169</td>\n",
              "      <td>0.457831</td>\n",
              "    </tr>\n",
              "    <tr>\n",
              "      <th>5</th>\n",
              "      <td>0.393939</td>\n",
              "      <td>0.606061</td>\n",
              "    </tr>\n",
              "    <tr>\n",
              "      <th>6</th>\n",
              "      <td>0.363636</td>\n",
              "      <td>0.636364</td>\n",
              "    </tr>\n",
              "    <tr>\n",
              "      <th>7</th>\n",
              "      <td>0.444444</td>\n",
              "      <td>0.555556</td>\n",
              "    </tr>\n",
              "    <tr>\n",
              "      <th>8</th>\n",
              "      <td>0.500000</td>\n",
              "      <td>0.500000</td>\n",
              "    </tr>\n",
              "    <tr>\n",
              "      <th>9</th>\n",
              "      <td>0.000000</td>\n",
              "      <td>1.000000</td>\n",
              "    </tr>\n",
              "  </tbody>\n",
              "</table>\n",
              "</div>"
            ],
            "text/plain": [
              "Churn                      False     True \n",
              "Customer service calls                    \n",
              "0                       0.868006  0.131994\n",
              "1                       0.896698  0.103302\n",
              "2                       0.885375  0.114625\n",
              "3                       0.897436  0.102564\n",
              "4                       0.542169  0.457831\n",
              "5                       0.393939  0.606061\n",
              "6                       0.363636  0.636364\n",
              "7                       0.444444  0.555556\n",
              "8                       0.500000  0.500000\n",
              "9                       0.000000  1.000000"
            ]
          },
          "metadata": {},
          "execution_count": 48
        }
      ]
    },
    {
      "cell_type": "markdown",
      "metadata": {
        "id": "nB_kBcVRpZC-"
      },
      "source": [
        "The percentage of Churn have increased drastically from 4 to 9 Customer service calls. Let us check Whether Area Code have impact on Churn or not"
      ]
    },
    {
      "cell_type": "code",
      "metadata": {
        "colab": {
          "base_uri": "https://localhost:8080/"
        },
        "id": "kIt-kr-KramW",
        "outputId": "5ed57a91-30d8-4862-8ad7-519a87815b7a"
      },
      "source": [
        "tele_df['Area code'].value_counts()"
      ],
      "execution_count": 51,
      "outputs": [
        {
          "output_type": "execute_result",
          "data": {
            "text/plain": [
              "415    1655\n",
              "510     840\n",
              "408     838\n",
              "Name: Area code, dtype: int64"
            ]
          },
          "metadata": {},
          "execution_count": 51
        }
      ]
    },
    {
      "cell_type": "code",
      "metadata": {
        "colab": {
          "base_uri": "https://localhost:8080/",
          "height": 305
        },
        "id": "KFLBkfodoOV9",
        "outputId": "e4741884-464e-491e-e2d3-1de0aed302db"
      },
      "source": [
        "tele_df.groupby('Area code')['Churn'].sum().plot(kind='bar')"
      ],
      "execution_count": 49,
      "outputs": [
        {
          "output_type": "execute_result",
          "data": {
            "text/plain": [
              "<matplotlib.axes._subplots.AxesSubplot at 0x7f6a981c8dd0>"
            ]
          },
          "metadata": {},
          "execution_count": 49
        },
        {
          "output_type": "display_data",
          "data": {
            "image/png": "[encoded data removed]",
            "text/plain": [
              "<Figure size 432x288 with 1 Axes>"
            ]
          },
          "metadata": {
            "needs_background": "light"
          }
        }
      ]
    },
    {
      "cell_type": "code",
      "metadata": {
        "colab": {
          "base_uri": "https://localhost:8080/",
          "height": 172
        },
        "id": "tq5xNZcpslBO",
        "outputId": "6075cd03-784f-4701-ebe9-a466a6f00ca9"
      },
      "source": [
        "pd.crosstab(tele_df['Area code'], tele_df['Churn'])"
      ],
      "execution_count": 54,
      "outputs": [
        {
          "output_type": "execute_result",
          "data": {
            "text/html": [
              "<div>\n",
              "<style scoped>\n",
              "    .dataframe tbody tr th:only-of-type {\n",
              "        vertical-align: middle;\n",
              "    }\n",
              "\n",
              "    .dataframe tbody tr th {\n",
              "        vertical-align: top;\n",
              "    }\n",
              "\n",
              "    .dataframe thead th {\n",
              "        text-align: right;\n",
              "    }\n",
              "</style>\n",
              "<table border=\"1\" class=\"dataframe\">\n",
              "  <thead>\n",
              "    <tr style=\"text-align: right;\">\n",
              "      <th>Churn</th>\n",
              "      <th>False</th>\n",
              "      <th>True</th>\n",
              "    </tr>\n",
              "    <tr>\n",
              "      <th>Area code</th>\n",
              "      <th></th>\n",
              "      <th></th>\n",
              "    </tr>\n",
              "  </thead>\n",
              "  <tbody>\n",
              "    <tr>\n",
              "      <th>408</th>\n",
              "      <td>716</td>\n",
              "      <td>122</td>\n",
              "    </tr>\n",
              "    <tr>\n",
              "      <th>415</th>\n",
              "      <td>1419</td>\n",
              "      <td>236</td>\n",
              "    </tr>\n",
              "    <tr>\n",
              "      <th>510</th>\n",
              "      <td>715</td>\n",
              "      <td>125</td>\n",
              "    </tr>\n",
              "  </tbody>\n",
              "</table>\n",
              "</div>"
            ],
            "text/plain": [
              "Churn      False  True \n",
              "Area code              \n",
              "408          716    122\n",
              "415         1419    236\n",
              "510          715    125"
            ]
          },
          "metadata": {},
          "execution_count": 54
        }
      ]
    },
    {
      "cell_type": "code",
      "metadata": {
        "colab": {
          "base_uri": "https://localhost:8080/",
          "height": 172
        },
        "id": "sh1Fl5ZzrKKk",
        "outputId": "22858330-70de-45d1-d88d-4402c7ba2546"
      },
      "source": [
        "pd.crosstab(tele_df['Area code'], tele_df['Churn'], normalize='index')"
      ],
      "execution_count": 55,
      "outputs": [
        {
          "output_type": "execute_result",
          "data": {
            "text/html": [
              "<div>\n",
              "<style scoped>\n",
              "    .dataframe tbody tr th:only-of-type {\n",
              "        vertical-align: middle;\n",
              "    }\n",
              "\n",
              "    .dataframe tbody tr th {\n",
              "        vertical-align: top;\n",
              "    }\n",
              "\n",
              "    .dataframe thead th {\n",
              "        text-align: right;\n",
              "    }\n",
              "</style>\n",
              "<table border=\"1\" class=\"dataframe\">\n",
              "  <thead>\n",
              "    <tr style=\"text-align: right;\">\n",
              "      <th>Churn</th>\n",
              "      <th>False</th>\n",
              "      <th>True</th>\n",
              "    </tr>\n",
              "    <tr>\n",
              "      <th>Area code</th>\n",
              "      <th></th>\n",
              "      <th></th>\n",
              "    </tr>\n",
              "  </thead>\n",
              "  <tbody>\n",
              "    <tr>\n",
              "      <th>408</th>\n",
              "      <td>0.854415</td>\n",
              "      <td>0.145585</td>\n",
              "    </tr>\n",
              "    <tr>\n",
              "      <th>415</th>\n",
              "      <td>0.857402</td>\n",
              "      <td>0.142598</td>\n",
              "    </tr>\n",
              "    <tr>\n",
              "      <th>510</th>\n",
              "      <td>0.851190</td>\n",
              "      <td>0.148810</td>\n",
              "    </tr>\n",
              "  </tbody>\n",
              "</table>\n",
              "</div>"
            ],
            "text/plain": [
              "Churn         False     True \n",
              "Area code                    \n",
              "408        0.854415  0.145585\n",
              "415        0.857402  0.142598\n",
              "510        0.851190  0.148810"
            ]
          },
          "metadata": {},
          "execution_count": 55
        }
      ]
    },
    {
      "cell_type": "markdown",
      "metadata": {
        "id": "iqL8Y5yLspRI"
      },
      "source": [
        "Here we can observce that *Area code* alone do not have any impact on customer churn. As, percentage of churn(14%) is same for each and every *Area code*"
      ]
    },
    {
      "cell_type": "markdown",
      "metadata": {
        "id": "q5-XzVUwxIWV"
      },
      "source": [
        "**So untill now we have good amount of information on our data just by doing some basic to intermediate Data Analysis. Insights that we have gained till now includes -**\n",
        "1. Most of our customer's does not opt for ***International plan*** and those who opt are more likely to go churn.\n",
        "2. Around **16%** of our customer's are more likely to be go churn who have not opted for ***Voice mail plan*** & **8%** will go churn for those who have opted for a plan.\n",
        "3. Customer's who call ***Customer service*** for **4** or more times are more likely to go churn then those who call **3** times or less then that.\n",
        "4. TX State have a highest number of customer churn where as AK is the State with lowest number of customer churn.\n",
        "5. ***Area code*** does not have any direct relatinship with customer churn, as churn rate is same for each and evry ***Area code***\n",
        "\n",
        "\n",
        "\n",
        "\n"
      ]
    },
    {
      "cell_type": "code",
      "metadata": {
        "id": "TH8I05qDvthZ"
      },
      "source": [
        ""
      ],
      "execution_count": null,
      "outputs": []
    }
  ]
}